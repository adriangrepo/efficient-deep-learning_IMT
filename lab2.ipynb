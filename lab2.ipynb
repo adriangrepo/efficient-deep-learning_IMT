{
 "cells": [
  {
   "cell_type": "markdown",
   "id": "5fa92b7d-1e92-41a7-bc2a-b9142a8d0b7c",
   "metadata": {},
   "source": [
    "# Lab Session 2\n",
    "\n",
    "The objectives of this lab session are the following:\n",
    "- Visualize augmented data samples\n",
    "- Experiment with Data Augmentation\n",
    "- Implement mixup in your training loop\n",
    "\n",
    "All experiments done on CIFAR10.\n",
    "\n",
    "---\n",
    "## Part 1 - Visualization of DA\n",
    "\n",
    "Data augmentation (DA) in Pytorch "
   ]
  },
  {
   "cell_type": "code",
   "execution_count": 1,
   "id": "2933a7a9-ea5a-4f23-9ca3-dc56f2802ab8",
   "metadata": {},
   "outputs": [],
   "source": [
    "from datetime import datetime\n",
    "import numpy as np \n",
    "from matplotlib.pylab import plt\n",
    "import gc\n",
    "import polars as pl\n",
    "import time\n",
    "\n",
    "import torch \n",
    "import torch.nn as nn\n",
    "import torch.optim as optim\n",
    "import torch.nn.functional as F\n",
    "from torch.autograd import Variable\n",
    "import torchvision.transforms as transforms\n",
    "from torch.optim.lr_scheduler import ReduceLROnPlateau\n",
    "from torch.utils.data.dataloader import DataLoader\n",
    "from torch.utils.tensorboard import SummaryWriter\n",
    "from torchvision.datasets import CIFAR10\n",
    "from torch.utils.data import random_split\n",
    "from models_cifar100 import *"
   ]
  },
  {
   "cell_type": "code",
   "execution_count": 2,
   "id": "fc230e60-76a0-4a7f-b625-fd263c8065b3",
   "metadata": {},
   "outputs": [
    {
     "name": "stdout",
     "output_type": "stream",
     "text": [
      "Files already downloaded and verified\n",
      "Files already downloaded and verified\n"
     ]
    }
   ],
   "source": [
    "\n",
    "\n",
    "transform_train = transforms.Compose([\n",
    "    transforms.RandomCrop(32, padding=4),\n",
    "    transforms.RandomHorizontalFlip(),\n",
    "    transforms.ToTensor(),\n",
    "    transforms.Normalize((0.4914, 0.4822, 0.4465), (0.2023, 0.1994, 0.2010))\n",
    "])\n",
    "\n",
    "transform_test = transforms.Compose([\n",
    "    transforms.ToTensor(),\n",
    "    transforms.Normalize((0.4914, 0.4822, 0.4465), (0.2023, 0.1994, 0.2010))\n",
    "])\n",
    "\n",
    "rootdir = './data/cifar10'\n",
    "\n",
    "c10train = CIFAR10(rootdir,train=True,download=True,transform=transform_train)\n",
    "c10test = CIFAR10(rootdir,train=False,download=True,transform=transform_test)"
   ]
  },
  {
   "cell_type": "markdown",
   "id": "70673a97-520d-4da2-acea-c68a316464c4",
   "metadata": {},
   "source": [
    "DA here is done by two random transformations : \n",
    "- [RandomCrop](https://pytorch.org/vision/main/generated/torchvision.transforms.RandomCrop.html), which crops the image at a random location and pads the borders, and \n",
    "- [RandomHorizontalFlip](https://pytorch.org/vision/main/generated/torchvision.transforms.RandomHorizontalFlip.html#torchvision.transforms.RandomHorizontalFlip).\n",
    "\n",
    "A few important notes :\n",
    "- ToTensor() converts the images to torch Tensors\n",
    "- Normalization is performed so that the input values follow the normal distribution\n",
    "- DA is applied only for the training set. For the test set, only normalization is applied\n",
    "\n",
    "\n",
    "In order to visualize, let's define Dataloaders with a small batch, and we will remove Shuffling so that we can always look at the same images. We also remove normalization so that we preserve the pixel values for plotting. \n"
   ]
  },
  {
   "cell_type": "code",
   "execution_count": 3,
   "id": "004b69eb-d0d9-4b52-9634-d62947aa7a3c",
   "metadata": {},
   "outputs": [
    {
     "name": "stdout",
     "output_type": "stream",
     "text": [
      "Files already downloaded and verified\n"
     ]
    },
    {
     "name": "stderr",
     "output_type": "stream",
     "text": [
      "Clipping input data to the valid range for imshow with RGB data ([0..1] for floats or [0..255] for integers).\n",
      "Clipping input data to the valid range for imshow with RGB data ([0..1] for floats or [0..255] for integers).\n",
      "Clipping input data to the valid range for imshow with RGB data ([0..1] for floats or [0..255] for integers).\n",
      "Clipping input data to the valid range for imshow with RGB data ([0..1] for floats or [0..255] for integers).\n"
     ]
    },
    {
     "name": "stdout",
     "output_type": "stream",
     "text": [
      "(4, 3, 32, 32)\n"
     ]
    },
    {
     "data": {
      "image/png": "[encoded data removed]",
      "text/plain": [
       "<Figure size 600x600 with 4 Axes>"
      ]
     },
     "metadata": {},
     "output_type": "display_data"
    }
   ],
   "source": [
    "\n",
    "\n",
    "transform_train = transforms.Compose([\n",
    "    transforms.RandomCrop(32, padding=4),\n",
    "    transforms.RandomHorizontalFlip(),\n",
    "    transforms.RandomEqualize(0.5),\n",
    "    transforms.ToTensor(),\n",
    "    transforms.Normalize((0.4914, 0.4822, 0.4465), (0.2023, 0.1994, 0.2010))\n",
    "])\n",
    "\n",
    "rootdir = './data/cifar10'\n",
    "\n",
    "c10train = CIFAR10(rootdir,train=True,download=True,transform=transform_train)\n",
    "\n",
    "trainloader = DataLoader(c10train,batch_size=4,shuffle=False) ### Shuffle to False so that we always see the same images\n",
    "\n",
    "from matplotlib import pyplot as plt \n",
    "\n",
    "### Let's do a figure for each batch\n",
    "f = plt.figure(figsize=(6,6))\n",
    "\n",
    "for i,(data,target) in enumerate(trainloader):\n",
    "    \n",
    "    data = (data.numpy())\n",
    "    print(data.shape)\n",
    "    plt.subplot(2,2,1)\n",
    "    plt.imshow(data[0].swapaxes(0,2).swapaxes(0,1))\n",
    "    plt.subplot(2,2,2)\n",
    "    plt.imshow(data[1].swapaxes(0,2).swapaxes(0,1))\n",
    "    plt.subplot(2,2,3)\n",
    "    plt.imshow(data[2].swapaxes(0,2).swapaxes(0,1))\n",
    "    plt.subplot(2,2,4)\n",
    "    plt.imshow(data[3].swapaxes(0,2).swapaxes(0,1))\n",
    "\n",
    "    break\n",
    "\n",
    "f.savefig('train_DA.png')"
   ]
  },
  {
   "cell_type": "markdown",
   "id": "9a3b03d6-d1ae-4711-878c-e407dc433fe4",
   "metadata": {},
   "source": [
    "And you should obtain an image similar to this one : \n",
    "\n",
    "![Image](train_DA.png)\n",
    "\n",
    "... except that the crops and flips will be different each time you run the code.\n",
    "\n",
    "A few things to try : \n",
    "- Remove one of the two transformations and see the effect\n",
    "- Experiment with other transformations, available from  [torchvision.transforms](https://pytorch.org/vision/main/transforms.html#transforms-on-pil-image-and-torch-tensor). \n",
    "- Don't forget that you should not change the image size as a result of transformation. \n",
    "- There are also some popular packages for data augmentations such as albumentations, including a more detailed pytorch tutorial [here](https://albumentations.ai/docs/examples/pytorch_classification/). You can check out more examples of DA strategies there. \n",
    "\n"
   ]
  },
  {
   "cell_type": "markdown",
   "id": "7fb800de-3592-4cef-87b8-2eb021be25b6",
   "metadata": {},
   "source": [
    "\n",
    "## Part 2 - Experiments with DA\n",
    "You can now customize DA into your learning pipeline. Don't forget to check that you have normalization in the list of transforms, and to shuffle the train set (we removed those for pedagogical purposes here).\n",
    "\n",
    "The set of DA used here comes from the [repo for CIFAR10](https://github.com/kuangliu/pytorch-cifar/blob/master/main.py) we have been using since the beginning and can achieve close to SOTA, but when trying to reduce parameter count you might be able to boost performances by including more DA.\n",
    "\n"
   ]
  },
  {
   "cell_type": "markdown",
   "id": "bf6f9e90-08fc-49a0-8276-bb90c425e9cf",
   "metadata": {},
   "source": [
    "\n",
    "## Part 3 - Mixup\n",
    "\n",
    "Mixup was introduced in 2017 in [this paper](https://arxiv.org/abs/1710.09412). \n",
    "\n",
    "A simple way to perform mixup during training is the following procedure. This replaces your usual training loop. \n",
    "\n",
    "For each batch with data and target $X,y$ :\n",
    "- Generate another order of data and targets: $X_{perm},y_{perm}$ by permuting the indices\n",
    "- Generate a random scalar $\\lambda \\in [0,1]$. The uniform distribution is a good default choice, obtained by simply doing `lambda = random.random()` from the random standard python library.\n",
    "- The mixed-up data is $X_{m} = \\lambda X + (1-\\lambda)X_{perm}$\n",
    "- Zero gradients, forward pass with the mixed up data : $out_m = model(X_{m})$\n",
    "- Compute the loss as follows (CE is cross-entropy) : $loss = \\lambda CE(out_m,y) + (1-\\lambda) CE(out_m,y_{perm})$\n",
    "- Backward pass and optimizer step as would be done without mixup.\n",
    "\n",
    "You should leave the option to activate mixup or not during an epoch, as performing mixup since the beginning may harm training, depending on architectures and datasets. \n",
    "\n",
    "You will find other ways to do it in the litterature (e.g. sampling $\\lambda$ from the distribution $\\Gamma(\\alpha,\\alpha)$ with various values of $\\alpha$).  The procedure proposed here the advantage of having no hyperparameters, as $\\lambda$ is chosen uniformly in $[0,1]$, which also ensures that some batches will not have mixup.\n",
    "\n",
    "\n",
    "Implement this mechanism and see the effect on training on CIFAR10.\n",
    "\n",
    "N.B. : there is an important difference between the [actual implementation](https://github.com/facebookresearch/mixup-cifar10/blob/main/train.py#L119) provided by the authors (which correspond more or less to what is described here) and the formula in [the paper](https://arxiv.org/abs/1710.09412) ; targets in the paper are a linear interpolation of the two targets (hence mixed up targets are not one hot), while the implementation performs a linear interpolation of the loss with mixed up data. \n"
   ]
  },
  {
   "cell_type": "code",
   "execution_count": 4,
   "id": "5777569e-8aff-4a1b-a2c1-17fe23084e48",
   "metadata": {},
   "outputs": [],
   "source": [
    "device = torch.device('cuda:2')"
   ]
  },
  {
   "cell_type": "code",
   "execution_count": 5,
   "id": "ecb8b2be-8c3c-4ca5-8af2-9571d8bfc703",
   "metadata": {},
   "outputs": [],
   "source": [
    "## Normalization adapted for CIFAR10\n",
    "normalize_scratch = transforms.Normalize((0.4914, 0.4822, 0.4465), (0.2023, 0.1994, 0.2010))\n",
    "\n",
    "# Transforms is a list of transformations applied on the 'raw' dataset before the data is fed to the network. \n",
    "# Here, Data augmentation (RandomCrop and Horizontal Flip) are applied to each batch, differently at each epoch, on the training set data only\n",
    "transform_train = transforms.Compose([\n",
    "    transforms.RandomCrop(32, padding=4),\n",
    "    transforms.RandomHorizontalFlip(),\n",
    "    transforms.ToTensor(),\n",
    "    normalize_scratch,\n",
    "])\n",
    "\n",
    "transform_test = transforms.Compose([\n",
    "    transforms.ToTensor(),\n",
    "    normalize_scratch,\n",
    "])"
   ]
  },
  {
   "cell_type": "code",
   "execution_count": 6,
   "id": "937f6088-6a85-4a13-beee-73625f66513a",
   "metadata": {},
   "outputs": [
    {
     "name": "stdout",
     "output_type": "stream",
     "text": [
      "Files already downloaded and verified\n",
      "Files already downloaded and verified\n"
     ]
    },
    {
     "data": {
      "text/plain": [
       "(45000, 5000)"
      ]
     },
     "execution_count": 6,
     "metadata": {},
     "output_type": "execute_result"
    }
   ],
   "source": [
    "rootdir = './data/cifar10'\n",
    "\n",
    "dataset = CIFAR10(rootdir,train=True,download=True,transform=transform_train)\n",
    "test_dataset = CIFAR10(rootdir,train=False,download=True,transform=transform_test)\n",
    "\n",
    "torch.manual_seed(43)\n",
    "val_size = int(len(dataset)*0.1)\n",
    "train_size = len(dataset) - val_size\n",
    "train_ds, val_ds = random_split(dataset, [train_size, val_size])\n",
    "len(train_ds), len(val_ds)"
   ]
  },
  {
   "cell_type": "code",
   "execution_count": 7,
   "id": "9296117e-48ff-4e9c-b797-33bdab398002",
   "metadata": {},
   "outputs": [],
   "source": [
    "train_loader = DataLoader(train_ds,batch_size=32,shuffle=True)\n",
    "val_loader = DataLoader(val_ds, batch_size=32, shuffle=False)\n",
    "test_loader = DataLoader(test_dataset,batch_size=32) "
   ]
  },
  {
   "cell_type": "code",
   "execution_count": 8,
   "id": "4cea16a2-7c0f-4bc8-a678-60ad2af64b2b",
   "metadata": {},
   "outputs": [],
   "source": [
    "def mixup_data(x, y, alpha=1.0):\n",
    "    '''see https://github.com/facebookresearch/mixup-cifar10/blob/main/train.py#L151'''\n",
    "    if alpha > 0:\n",
    "        lam = np.random.beta(alpha, alpha)\n",
    "    else:\n",
    "        lam = 1\n",
    "\n",
    "    batch_size = x.size()[0]\n",
    "    index = torch.randperm(batch_size).to(device)\n",
    "    mixed_x = lam * x + (1 - lam) * x[index, :]\n",
    "    y_a, y_b = y, y[index]\n",
    "    return mixed_x, y_a, y_b, lam\n",
    "\n",
    "def mixup_criterion(criterion, pred, y_a, y_b, lam):\n",
    "    return lam * criterion(pred, y_a) + (1 - lam) * criterion(pred, y_b)"
   ]
  },
  {
   "cell_type": "code",
   "execution_count": 9,
   "id": "2fd87896-520b-4be1-b57d-55cbcc4cf09f",
   "metadata": {},
   "outputs": [],
   "source": [
    "def train_one_epoch(model, optimizer, epoch_index, tb_writer):\n",
    "    running_loss = 0.\n",
    "    last_loss = 0.\n",
    "    model.train(True)\n",
    "    for i, (inputs, labels) in enumerate(train_loader):\n",
    "        inputs, labels =inputs.to(device),labels.to(device)\n",
    "        inputs, targets_a, targets_b, lam = mixup_data(inputs, labels, alpha)\n",
    "        inputs, targets_a, targets_b = map(Variable, (inputs, targets_a, targets_b))\n",
    "        optimizer.zero_grad()\n",
    "        outputs = model(inputs)\n",
    "        loss = mixup_criterion(criterion, outputs, targets_a, targets_b, lam)\n",
    "        \n",
    "        loss.backward()\n",
    "        optimizer.step()\n",
    "        running_loss += loss.item()\n",
    "\n",
    "    last_loss = running_loss / len(train_loader) # loss per batch\n",
    "    #print('  batch {} loss: {}'.format(i + 1, last_loss))\n",
    "    tb_x = epoch_index * len(train_loader) + i + 1\n",
    "    tb_writer.add_scalar('Loss/train', last_loss, tb_x)\n",
    "    return last_loss"
   ]
  },
  {
   "cell_type": "code",
   "execution_count": 10,
   "id": "dd03d491-5825-4d01-a80c-a2d3f536754c",
   "metadata": {},
   "outputs": [],
   "source": [
    "def validate_epoch(model, val_loader, criterion):\n",
    "    running_vloss = 0.0\n",
    "    model.eval()\n",
    "    with torch.no_grad():\n",
    "        for i, vdata in enumerate(val_loader):\n",
    "            vinputs, vlabels = vdata\n",
    "            vinputs, vlabels = vinputs.to(device), vlabels.to(device)\n",
    "            voutputs = model(vinputs)\n",
    "            vloss = criterion(voutputs, vlabels)\n",
    "            running_vloss += vloss\n",
    "    return running_vloss"
   ]
  },
  {
   "cell_type": "code",
   "execution_count": 11,
   "id": "d422be32-9155-4a7c-985f-69bfa6226c37",
   "metadata": {},
   "outputs": [],
   "source": [
    "def train_model(model, model_name, optimizer, save_models=False, use_scheduler=False):\n",
    "    print(model_name)\n",
    "    timestamp = datetime.now().strftime('%Y%m%d_%H%M%S')\n",
    "\n",
    "    avg_train_losses=[]\n",
    "    avg_val_losses = []\n",
    "    epoch_number = 0\n",
    "    best_vloss = 1_000_000.\n",
    "\n",
    "    writer = SummaryWriter(f'runs/lab2_{model_name}_{learning_rate}_{timestamp}_{epoch_number}')\n",
    "    \n",
    "    if use_scheduler:\n",
    "        # Create a ReduceLROnPlateau scheduler - updates learning rate of the optimizer\n",
    "        scheduler = ReduceLROnPlateau(optimizer, mode='min', factor=0.5, patience=5, verbose=True)\n",
    "        \n",
    "    for epoch in range(EPOCHS):\n",
    "        avg_loss = train_one_epoch(model, optimizer, epoch_number, writer)\n",
    "        running_vloss = 0.0\n",
    "\n",
    "        # Disable gradient computation and reduce memory consumption.\n",
    "        running_vloss = validate_epoch(model, val_loader, criterion)\n",
    "        if use_scheduler:\n",
    "            scheduler.step(running_vloss)\n",
    "            # Check if the learning rate was reduced\n",
    "            #if scheduler.optimizer.param_groups[0]['lr'] < 0.1:\n",
    "            #    print(\"Learning rate reduced to:\", scheduler.optimizer.param_groups[0]['lr'])\n",
    "    \n",
    "        avg_vloss = (running_vloss / (len(val_loader))).item()\n",
    "        print(f'Epoch: {epoch_number + 1}, Loss train: {avg_loss}, valid: {avg_vloss}')\n",
    "        avg_train_losses.append(avg_loss)\n",
    "        avg_val_losses.append(avg_vloss)\n",
    "    \n",
    "        # Log the running loss averaged per batch\n",
    "        # for both training and validation\n",
    "        writer.add_scalars('Training vs. Validation Loss',\n",
    "                        { 'Training' : avg_loss, 'Validation' : avg_vloss },\n",
    "                        epoch_number + 1)\n",
    "        writer.flush()\n",
    "    \n",
    "\n",
    "    \n",
    "        epoch_number += 1\n",
    "    torch.cuda.empty_cache() \n",
    "    gc.collect()\n",
    "    return avg_train_losses, avg_val_losses"
   ]
  },
  {
   "cell_type": "code",
   "execution_count": 12,
   "id": "520f3a24-d7fb-459b-a228-f145b52ce955",
   "metadata": {},
   "outputs": [],
   "source": [
    "EPOCHS = 5\n",
    "learning_rate = 0.01\n",
    "momentum = 0.9  # The momentum parameter (typically between 0 and 1)\n",
    "alpha = 0.9"
   ]
  },
  {
   "cell_type": "code",
   "execution_count": 13,
   "id": "781eb090-cd76-4c3a-9688-38e715f2c4eb",
   "metadata": {},
   "outputs": [],
   "source": [
    "criterion = nn.CrossEntropyLoss()"
   ]
  },
  {
   "cell_type": "code",
   "execution_count": 14,
   "id": "be168566-7d30-4070-a068-311a25f72902",
   "metadata": {},
   "outputs": [
    {
     "name": "stdout",
     "output_type": "stream",
     "text": [
      "VGG16\n",
      "Epoch: 1, Loss train: 2.102530878066339, valid: 1.619508981704712\n",
      "Epoch: 2, Loss train: 1.8103443539218862, valid: 1.327063798904419\n",
      "Epoch: 3, Loss train: 1.6342713740927663, valid: 1.1495611667633057\n",
      "Epoch: 4, Loss train: 1.510565650403796, valid: 0.997810423374176\n",
      "Epoch: 5, Loss train: 1.4552439176705854, valid: 0.9200946092605591\n"
     ]
    },
    {
     "ename": "ValueError",
     "evalue": "not enough values to unpack (expected 3, got 2)",
     "output_type": "error",
     "traceback": [
      "\u001b[0;31m---------------------------------------------------------------------------\u001b[0m",
      "\u001b[0;31mValueError\u001b[0m                                Traceback (most recent call last)",
      "Cell \u001b[0;32mIn[14], line 7\u001b[0m\n\u001b[1;32m      5\u001b[0m model \u001b[38;5;241m=\u001b[39m model\u001b[38;5;241m.\u001b[39mto(device)\n\u001b[1;32m      6\u001b[0m optimizer \u001b[38;5;241m=\u001b[39m optim\u001b[38;5;241m.\u001b[39mSGD(model\u001b[38;5;241m.\u001b[39mparameters(), lr\u001b[38;5;241m=\u001b[39mlearning_rate, momentum\u001b[38;5;241m=\u001b[39mmomentum)\n\u001b[0;32m----> 7\u001b[0m avg_train_losses, avg_val_losses, best_test_acc \u001b[38;5;241m=\u001b[39m train_model(model, model_name, optimizer, save_models\u001b[38;5;241m=\u001b[39m\u001b[38;5;28;01mFalse\u001b[39;00m, use_scheduler\u001b[38;5;241m=\u001b[39m\u001b[38;5;28;01mTrue\u001b[39;00m)\n\u001b[1;32m      8\u001b[0m \u001b[38;5;28mprint\u001b[39m(\u001b[38;5;124mf\u001b[39m\u001b[38;5;124m'\u001b[39m\u001b[38;5;132;01m{\u001b[39;00mmodel_name\u001b[38;5;132;01m}\u001b[39;00m\u001b[38;5;124m, train loss: \u001b[39m\u001b[38;5;132;01m{\u001b[39;00mavg_train_losses\u001b[38;5;132;01m}\u001b[39;00m\u001b[38;5;124m, val loss: \u001b[39m\u001b[38;5;132;01m{\u001b[39;00mavg_val_losses\u001b[38;5;132;01m}\u001b[39;00m\u001b[38;5;124m, elapsed: \u001b[39m\u001b[38;5;132;01m{\u001b[39;00mtime\u001b[38;5;241m.\u001b[39mtime()\u001b[38;5;241m-\u001b[39mstart_time\u001b[38;5;132;01m}\u001b[39;00m\u001b[38;5;124m'\u001b[39m)\n",
      "\u001b[0;31mValueError\u001b[0m: not enough values to unpack (expected 3, got 2)"
     ]
    }
   ],
   "source": [
    "model = VGG('VGG16')\n",
    "model_name='VGG16'\n",
    "\n",
    "start_time=time.time()\n",
    "model = model.to(device)\n",
    "optimizer = optim.SGD(model.parameters(), lr=learning_rate, momentum=momentum)\n",
    "avg_train_losses, avg_val_losses, best_test_acc = train_model(model, model_name, optimizer, save_models=False, use_scheduler=True)\n",
    "print(f'{model_name}, train loss: {avg_train_losses}, val loss: {avg_val_losses}, elapsed: {time.time()-start_time}')"
   ]
  },
  {
   "cell_type": "code",
   "execution_count": null,
   "id": "3d979852-5e79-47b6-8a07-bd6c95f0318a",
   "metadata": {},
   "outputs": [],
   "source": []
  },
  {
   "cell_type": "code",
   "execution_count": null,
   "id": "6d0e745e-a4a9-453a-a909-1dcab8487c00",
   "metadata": {},
   "outputs": [],
   "source": []
  }
 ],
 "metadata": {
  "kernelspec": {
   "display_name": "Python 3 (ipykernel)",
   "language": "python",
   "name": "python3"
  },
  "language_info": {
   "codemirror_mode": {
    "name": "ipython",
    "version": 3
   },
   "file_extension": ".py",
   "mimetype": "text/x-python",
   "name": "python",
   "nbconvert_exporter": "python",
   "pygments_lexer": "ipython3",
   "version": "3.11.5"
  }
 },
 "nbformat": 4,
 "nbformat_minor": 5
}
