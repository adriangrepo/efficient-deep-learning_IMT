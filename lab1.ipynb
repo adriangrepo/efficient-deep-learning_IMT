{
 "cells": [
  {
   "cell_type": "markdown",
   "id": "bc5745c1-d6c2-4cd9-85f9-fe5bacf34195",
   "metadata": {},
   "source": [
    "The objectives of this first lab session are the following:\n",
    "- Familiarize yourself with pytorch\n",
    "- Train a model from scratch using a state of the art architecture\n",
    "- Learn how to load your saved models\n",
    "- Explore hyperparameters of a given architecture\n",
    "\n",
    "We will perform all experiments on the CIFAR10 dataset. "
   ]
  },
  {
   "cell_type": "markdown",
   "id": "73970401-463c-4fa5-b352-f63596ce0c67",
   "metadata": {},
   "source": [
    "## Part 1\n",
    "\n",
    "Familiarize yourself with pytorch by doing the [Pytorch_tutorial.ipynb](Pytorch_tutorial.ipynb), a jupyter notebook that you will be able to run also in VScode, after installing the Jupyter extension (remember to \"Trust\" the notebook, as explained [here](https://code.visualstudio.com/docs/python/jupyter-support)). If you are familiar with pytorch, you can go quickly over the tutorial and try to train a classifier in section 4 where you are asked to complete some cells.\n"
   ]
  },
  {
   "cell_type": "markdown",
   "id": "d00b5756-db73-4761-9457-e0d64d04f1b4",
   "metadata": {},
   "source": [
    "## Part 2 \n",
    "\n",
    "The following code can be used to obtain a DataLoader for CIFAR10, ready for training in pytorch : "
   ]
  },
  {
   "cell_type": "markdown",
   "id": "fd94dce5-79fe-490a-8f1b-008d6df8ffdf",
   "metadata": {},
   "source": [
    "see https://github.com/kuangliu/pytorch-cifar/tree/master/models"
   ]
  },
  {
   "cell_type": "code",
   "execution_count": 1,
   "id": "0956800b-76e4-44cf-9b2f-06119423fc7c",
   "metadata": {},
   "outputs": [],
   "source": [
    "from datetime import datetime\n",
    "import numpy as np \n",
    "from matplotlib.pylab import plt\n",
    "import gc\n",
    "import polars as pl\n",
    "import time\n",
    "\n",
    "import torch \n",
    "import torch.nn as nn\n",
    "import torch.optim as optim\n",
    "import torchvision.transforms as transforms\n",
    "from torch.optim.lr_scheduler import ReduceLROnPlateau\n",
    "from torch.utils.data.dataloader import DataLoader\n",
    "from torch.utils.tensorboard import SummaryWriter\n",
    "from torchvision.datasets import CIFAR10\n",
    "from torch.utils.data import random_split\n",
    "from models_cifar100 import *"
   ]
  },
  {
   "cell_type": "code",
   "execution_count": 2,
   "id": "79a4229f-99ec-4900-9f1f-c4d65d93ccb1",
   "metadata": {},
   "outputs": [],
   "source": [
    "device = torch.device('cuda:0')"
   ]
  },
  {
   "cell_type": "code",
   "execution_count": 3,
   "id": "ba7fc2d0-b7ad-4229-b57e-4bb1d9274e65",
   "metadata": {},
   "outputs": [],
   "source": [
    "## Normalization adapted for CIFAR10\n",
    "normalize_scratch = transforms.Normalize((0.4914, 0.4822, 0.4465), (0.2023, 0.1994, 0.2010))\n",
    "\n",
    "# Transforms is a list of transformations applied on the 'raw' dataset before the data is fed to the network. \n",
    "# Here, Data augmentation (RandomCrop and Horizontal Flip) are applied to each batch, differently at each epoch, on the training set data only\n",
    "transform_train = transforms.Compose([\n",
    "    transforms.RandomCrop(32, padding=4),\n",
    "    transforms.RandomHorizontalFlip(),\n",
    "    transforms.ToTensor(),\n",
    "    normalize_scratch,\n",
    "])\n",
    "\n",
    "transform_test = transforms.Compose([\n",
    "    transforms.ToTensor(),\n",
    "    normalize_scratch,\n",
    "])"
   ]
  },
  {
   "cell_type": "code",
   "execution_count": 4,
   "id": "953ec276-51da-4bbd-9f8c-e0b8d6b60c49",
   "metadata": {},
   "outputs": [
    {
     "name": "stdout",
     "output_type": "stream",
     "text": [
      "Files already downloaded and verified\n",
      "Files already downloaded and verified\n"
     ]
    },
    {
     "data": {
      "text/plain": [
       "(45000, 5000)"
      ]
     },
     "execution_count": 4,
     "metadata": {},
     "output_type": "execute_result"
    }
   ],
   "source": [
    "### The data from CIFAR10 will be downloaded in the following folder\n",
    "rootdir = './data/cifar10'\n",
    "\n",
    "dataset = CIFAR10(rootdir,train=True,download=True,transform=transform_train)\n",
    "test_dataset = CIFAR10(rootdir,train=False,download=True,transform=transform_test)\n",
    "\n",
    "torch.manual_seed(43)\n",
    "val_size = int(len(dataset)*0.1)\n",
    "train_size = len(dataset) - val_size\n",
    "train_ds, val_ds = random_split(dataset, [train_size, val_size])\n",
    "len(train_ds), len(val_ds)"
   ]
  },
  {
   "cell_type": "code",
   "execution_count": 5,
   "id": "547e4046-e2c0-4bf4-885b-1b99b61aba51",
   "metadata": {},
   "outputs": [],
   "source": [
    "train_loader = DataLoader(train_ds,batch_size=32,shuffle=True)\n",
    "val_loader = DataLoader(val_ds, batch_size=32, shuffle=False)\n",
    "test_loader = DataLoader(test_dataset,batch_size=32) "
   ]
  },
  {
   "cell_type": "markdown",
   "id": "f257b686-451b-4b74-9f99-09d2e04c894c",
   "metadata": {},
   "source": [
    "However, this will load the entire CIFAR10 dataset, which has 50000 examples per class for training ; this can result in a relatively long training. As a consequence, we encourage you to use the following code, with a [RandomSampler](https://pytorch.org/docs/stable/data.html#torch.utils.data.RandomSampler) in order to use a subset of training : \n"
   ]
  },
  {
   "cell_type": "code",
   "execution_count": 6,
   "id": "301745e0-7083-4fe3-bf74-11b5eeaa5751",
   "metadata": {},
   "outputs": [],
   "source": [
    "## number of target samples for the final dataset\n",
    "num_train_examples = len(dataset)\n",
    "num_samples_subset = 15000\n",
    "\n",
    "## We set a seed manually so as to reproduce the results easily\n",
    "seed  = 2147483647"
   ]
  },
  {
   "cell_type": "code",
   "execution_count": 7,
   "id": "3502b19e-ae13-42aa-8ad3-fafce983cfc5",
   "metadata": {},
   "outputs": [],
   "source": [
    "## Generate a list of shuffled indices ; with the fixed seed, the permutation will always be the same, for reproducibility\n",
    "indices = list(range(num_train_examples))\n",
    "np.random.RandomState(seed=seed).shuffle(indices)## modifies the list in place"
   ]
  },
  {
   "cell_type": "code",
   "execution_count": 8,
   "id": "a6f6de9c-59bb-443a-baaf-bf3295749436",
   "metadata": {},
   "outputs": [],
   "source": [
    "## We define the Subset using the generated indices \n",
    "c10train_subset = torch.utils.data.Subset(dataset,indices[:num_samples_subset])"
   ]
  },
  {
   "cell_type": "code",
   "execution_count": 9,
   "id": "4bc70337-efb7-4d7d-a3f8-ca85e074d280",
   "metadata": {},
   "outputs": [],
   "source": [
    "# Finally we can define anoter dataloader for the training data\n",
    "trainloader_subset = DataLoader(c10train_subset,batch_size=32,shuffle=True)\n",
    "### You can now use either trainloader (full CIFAR10) or trainloader_subset (subset of CIFAR10) to train your networks."
   ]
  },
  {
   "cell_type": "code",
   "execution_count": 10,
   "id": "2a9a78cb-65d0-493a-8d9c-18c8f7d117ee",
   "metadata": {},
   "outputs": [],
   "source": [
    "def plot_loss(avg_train_losses, avg_val_losses, model_name):\n",
    "    # simple plot without tensorboard of the training and validation loss values\n",
    "    epochs = range(EPOCHS)\n",
    "    #avg_val_losses=[s.detach().cpu().numpy() for s in avg_val_losses] \n",
    "    \n",
    "    plt.plot(epochs, avg_train_losses, label='Training Loss')\n",
    "    plt.plot(epochs, avg_val_losses, label='Validation Loss')\n",
    "     \n",
    "    # Add in a title and axes labels\n",
    "    plt.title(f'{model_name}')\n",
    "    plt.xlabel('Epochs')\n",
    "    plt.ylabel('Loss')\n",
    "     \n",
    "    # Set the tick locations\n",
    "     \n",
    "    # Display the plot\n",
    "    plt.legend(loc='best')\n",
    "    plt.show()"
   ]
  },
  {
   "cell_type": "markdown",
   "id": "20609988-4478-4724-b50b-0a9113a2f464",
   "metadata": {},
   "source": [
    "We will now define a state of the art deep model and train it from scratch. Check out [here](https://github.com/kuangliu/pytorch-cifar/tree/master/models) for reference implementations of modern deep models for CIFAR10. \n",
    "\n"
   ]
  },
  {
   "cell_type": "markdown",
   "id": "2f21e44e-cb63-44db-83ae-d74cc92edc56",
   "metadata": {},
   "source": [
    "### TASK 1. Train a model from scratch\n",
    "\n",
    "Choose a model among the following ones : \n",
    "- ResNet\n",
    "- PreActResNet\n",
    "- DenseNet\n",
    "- VGG\n",
    "  \n",
    "Next, train it on a subset of CIFAR10. Try to compare with the performances on the full CIFAR10 [reported here](https://github.com/kuangliu/pytorch-cifar). \n",
    "\n",
    "A few hints : \n",
    "- Learning rate is a very important (if not the most important) hyperparameter, and is routinely scheduled to change a few times during training. A typical strategy is to divide it by 10 when reaching a plateau in performance. \n",
    "- Be careful with overfitting, which happens when the gap between Train and Test accuracy keeps getting larger. \n",
    "- Think about plotting and saving your results, so as not to lose track of your experiments. \n",
    "\n"
   ]
  },
  {
   "cell_type": "code",
   "execution_count": 11,
   "id": "c170369e-4a69-495a-b001-f7fb63705f2b",
   "metadata": {},
   "outputs": [],
   "source": [
    "# Use CE loss for multi-class classification\n",
    "criterion = nn.CrossEntropyLoss()"
   ]
  },
  {
   "cell_type": "code",
   "execution_count": 12,
   "id": "21607c66-4947-45a1-85b1-4310cdab7fca",
   "metadata": {},
   "outputs": [],
   "source": [
    "EPOCHS = 5"
   ]
  },
  {
   "cell_type": "code",
   "execution_count": 13,
   "id": "e4ef258f-8b9a-4874-a2df-b84914ddceca",
   "metadata": {},
   "outputs": [],
   "source": [
    "# %load_ext tensorboard\n",
    "# %tensorboard --logdir=runs"
   ]
  },
  {
   "cell_type": "markdown",
   "id": "5c22036e-529d-4d97-ac3e-26ca1f7a8aaf",
   "metadata": {},
   "source": [
    "### Training loop"
   ]
  },
  {
   "cell_type": "code",
   "execution_count": 14,
   "id": "4f3b9774-1537-4950-bf55-ec8a8cfc1f2c",
   "metadata": {},
   "outputs": [],
   "source": [
    "def train_one_epoch(model, optimizer, epoch_index, tb_writer):\n",
    "    running_loss = 0.\n",
    "    last_loss = 0.\n",
    "    model.train(True)\n",
    "    for i, data in enumerate(train_loader):\n",
    "        inputs, labels = data\n",
    "        inputs, labels = inputs.to(device), labels.to(device)\n",
    "        \n",
    "        optimizer.zero_grad()\n",
    "        outputs = model(inputs)\n",
    "        loss = criterion(outputs, labels)\n",
    "        loss.backward()\n",
    "        optimizer.step()\n",
    "        running_loss += loss.item()\n",
    "\n",
    "    last_loss = running_loss / len(train_loader) # loss per batch\n",
    "    #print('  batch {} loss: {}'.format(i + 1, last_loss))\n",
    "    tb_x = epoch_index * len(train_loader) + i + 1\n",
    "    tb_writer.add_scalar('Loss/train', last_loss, tb_x)\n",
    "    return last_loss"
   ]
  },
  {
   "cell_type": "code",
   "execution_count": 15,
   "id": "9fc485ac-ab5e-4c39-8507-509263bebfc1",
   "metadata": {},
   "outputs": [],
   "source": [
    "def validate_epoch(model, val_loader, criterion):\n",
    "    running_vloss = 0.0\n",
    "    model.eval()\n",
    "    with torch.no_grad():\n",
    "        for i, vdata in enumerate(val_loader):\n",
    "            vinputs, vlabels = vdata\n",
    "            vinputs, vlabels = vinputs.to(device), vlabels.to(device)\n",
    "            voutputs = model(vinputs)\n",
    "            vloss = criterion(voutputs, vlabels)\n",
    "            running_vloss += vloss\n",
    "    return running_vloss"
   ]
  },
  {
   "cell_type": "code",
   "execution_count": 16,
   "id": "5e33b866-9208-4589-a698-3474970c7c83",
   "metadata": {},
   "outputs": [],
   "source": [
    "def test_epoch(model, epoch, best_acc):\n",
    "    model.eval()\n",
    "    test_loss = 0\n",
    "    correct = 0\n",
    "    total = 0\n",
    "    with torch.no_grad():\n",
    "        for batch_idx, (inputs, targets) in enumerate(test_loader):\n",
    "            inputs, targets = inputs.to(device), targets.to(device)\n",
    "            outputs = model(inputs)\n",
    "            loss = criterion(outputs, targets)\n",
    "\n",
    "            test_loss += loss.item()\n",
    "            _, predicted = outputs.max(1)\n",
    "            total += targets.size(0)\n",
    "            correct += predicted.eq(targets).sum().item()\n",
    "            #print(f'Test  batch loss: {test_loss/(batch_idx+1)}, acc: {100.*correct/total}')\n",
    "    acc = 100.*correct/total\n",
    "    if acc > best_acc:\n",
    "        best_acc = acc\n",
    "    return best_acc"
   ]
  },
  {
   "cell_type": "code",
   "execution_count": 17,
   "id": "d27cfc20-4f93-4363-a1f5-ee49f0269577",
   "metadata": {},
   "outputs": [],
   "source": [
    "def train_model(model, model_name, optimizer, save_models=False, use_scheduler=False):\n",
    "    print(model_name)\n",
    "    timestamp = datetime.now().strftime('%Y%m%d_%H%M%S')\n",
    "\n",
    "    avg_train_losses=[]\n",
    "    avg_val_losses = []\n",
    "    epoch_number = 0\n",
    "    best_vloss = 1_000_000.\n",
    "    best_test_acc = 0  \n",
    "\n",
    "    writer = SummaryWriter(f'runs/lab1_{model_name}_{learning_rate}_{timestamp}_{epoch_number}')\n",
    "    \n",
    "    if use_scheduler:\n",
    "        # Create a ReduceLROnPlateau scheduler - updates learning rate of the optimizer\n",
    "        scheduler = ReduceLROnPlateau(optimizer, mode='min', factor=0.5, patience=5, verbose=True)\n",
    "        \n",
    "    for epoch in range(EPOCHS):\n",
    "        avg_loss = train_one_epoch(model, optimizer, epoch_number, writer)\n",
    "        running_vloss = 0.0\n",
    "\n",
    "        # Disable gradient computation and reduce memory consumption.\n",
    "        running_vloss = validate_epoch(model, val_loader, criterion)\n",
    "        if use_scheduler:\n",
    "            scheduler.step(running_vloss)\n",
    "            # Check if the learning rate was reduced\n",
    "            #if scheduler.optimizer.param_groups[0]['lr'] < 0.1:\n",
    "            #    print(\"Learning rate reduced to:\", scheduler.optimizer.param_groups[0]['lr'])\n",
    "    \n",
    "        avg_vloss = (running_vloss / (len(val_loader))).item()\n",
    "        print(f'Epoch: {epoch_number + 1}, Loss train: {avg_loss}, valid: {avg_vloss}')\n",
    "        avg_train_losses.append(avg_loss)\n",
    "        avg_val_losses.append(avg_vloss)\n",
    "    \n",
    "        # Log the running loss averaged per batch\n",
    "        # for both training and validation\n",
    "        writer.add_scalars('Training vs. Validation Loss',\n",
    "                        { 'Training' : avg_loss, 'Validation' : avg_vloss },\n",
    "                        epoch_number + 1)\n",
    "        writer.flush()\n",
    "    \n",
    "        # Track best performance, and save the model's state\n",
    "        if avg_vloss < best_vloss:\n",
    "            best_vloss = avg_vloss\n",
    "            if save_models:\n",
    "                # see https://pytorch.org/tutorials/beginner/saving_loading_models.html\n",
    "                state = {\n",
    "                        'net': model.state_dict(),\n",
    "                        'optimizer_state_dict': optimizer.state_dict(),\n",
    "                        'epoch': epoch_number,\n",
    "                        'learning_rate': learning_rate\n",
    "                }   \n",
    "                model_path = f'models/lab1_{model_name}_{learning_rate}_{timestamp}_{epoch_number}'\n",
    "                torch.save(state, model_path)\n",
    "    \n",
    "        epoch_number += 1\n",
    "        best_test_acc = test_epoch(model, epoch, best_test_acc)\n",
    "    torch.cuda.empty_cache() \n",
    "    gc.collect()\n",
    "    return avg_train_losses, avg_val_losses, best_test_acc"
   ]
  },
  {
   "cell_type": "code",
   "execution_count": 18,
   "id": "027d8e18-0281-41fd-a08c-b1910516c18f",
   "metadata": {},
   "outputs": [],
   "source": [
    "# Create a SGD optimizer with momentum\n",
    "learning_rate = 0.01\n",
    "momentum = 0.9  # The momentum parameter (typically between 0 and 1)"
   ]
  },
  {
   "cell_type": "code",
   "execution_count": 19,
   "id": "7f228a65-0033-41fb-8289-1166e33ab614",
   "metadata": {},
   "outputs": [],
   "source": [
    "def workflow(model, model_name):\n",
    "    global learning_rate \n",
    "    for lr in [0.1, 0.01, 0.001]:\n",
    "        start_time = time.time()\n",
    "        learning_rate=lr\n",
    "        model = model.to(device)\n",
    "        optimizer = optim.SGD(model.parameters(), lr=lr, momentum=momentum)\n",
    "        avg_train_losses, avg_val_losses, best_test_acc = train_model(model, model_name, optimizer, save_models=True, use_scheduler=False)\n",
    "        print(f'{model_name}, lr: {lr}, train loss: {avg_train_losses}, val loss: {avg_val_losses}, test accuracy: {best_test_acc}, elapsed: {time.time()-start_time}')\n",
    "    return avg_train_losses, avg_val_losses, best_test_acc"
   ]
  },
  {
   "cell_type": "code",
   "execution_count": 20,
   "id": "134f7403-263d-430a-9098-c30e432c9f9f",
   "metadata": {},
   "outputs": [],
   "source": [
    "def compare_models():\n",
    "    results={}\n",
    "\n",
    "    model = VGG('VGG11')\n",
    "    avg_train_losses, avg_val_losses, best_test_acc=workflow(model, model_name='VGG11')\n",
    "    results['VGG11']=[avg_train_losses, avg_val_losses, best_test_acc]\n",
    "\n",
    "    model = VGG('VGG16')\n",
    "    avg_train_losses, avg_val_losses, best_test_acc=workflow(model, model_name='VGG16')\n",
    "    results['VGG16']=[avg_train_losses, avg_val_losses, best_test_acc]\n",
    "\n",
    "    model = VGG('VGG19')\n",
    "    avg_train_losses, avg_val_losses, best_test_acc=workflow(model, model_name='VGG19')\n",
    "    results['VGG19']=[avg_train_losses, avg_val_losses, best_test_acc]\n",
    "\n",
    "    '''\n",
    "    model = DenseNet201()\n",
    "    avg_train_losses, avg_val_losses, best_test_acc =workflow(model)\n",
    "    results['DenseNet201']=[avg_train_losses, avg_val_losses, best_test_acc]\n",
    "\n",
    "    \n",
    "    model = DenseNet121()\n",
    "    avg_train_losses, avg_val_losses, best_test_acc=workflow(model)\n",
    "    results['DenseNet121']=[avg_train_losses, avg_val_losses, best_test_acc]\n",
    "\n",
    "    model = PreActResNet152()\n",
    "    avg_train_losses, avg_val_losses, best_test_acc=workflow(model)\n",
    "    results['PreActResNet152']=[avg_train_losses, avg_val_losses, best_test_acc]\n",
    "\n",
    "    model = PreActResNet50()\n",
    "    avg_train_losses, avg_val_losses, best_test_acc=workflow(model)\n",
    "    results['PreActResNet50']=[avg_train_losses, avg_val_losses, best_test_acc]\n",
    "\n",
    "    model = PreActResNet18()\n",
    "    avg_train_losses, avg_val_losses, best_test_acc=workflow(model)\n",
    "    results['PreActResNet18']=[avg_train_losses, avg_val_losses, best_test_acc]\n",
    "\n",
    "    model = ResNet152()\n",
    "    avg_train_losses, avg_val_losses, best_test_acc=workflow(model)\n",
    "    results['ResNet152']=[avg_train_losses, avg_val_losses, best_test_acc]\n",
    "\n",
    "    model = ResNet50()\n",
    "    avg_train_losses, avg_val_losses, best_test_acc=workflow(model)\n",
    "    results['ResNet50']=[avg_train_losses, avg_val_losses, best_test_acc]\n",
    "\n",
    "    model = ResNet18()\n",
    "    avg_train_losses, avg_val_losses, best_test_acc=workflow(model)\n",
    "    results['ResNet18']=[avg_train_losses, avg_val_losses, best_test_acc]\n",
    "    '''\n",
    "\n",
    "\n",
    "    return results"
   ]
  },
  {
   "cell_type": "code",
   "execution_count": 21,
   "id": "eae3bb7e-4f59-4cb9-b8f2-08671e5308d2",
   "metadata": {},
   "outputs": [
    {
     "name": "stdout",
     "output_type": "stream",
     "text": [
      "VGG11\n",
      "Epoch: 1, Loss train: 2.4082599359788874, valid: 1.9863086938858032\n",
      "Epoch: 2, Loss train: 1.875736608688257, valid: 1.680523157119751\n",
      "Epoch: 3, Loss train: 1.6260565939996796, valid: 1.5131245851516724\n",
      "Epoch: 4, Loss train: 1.4205464383940707, valid: 1.2960678339004517\n",
      "Epoch: 5, Loss train: 1.2194157620652313, valid: 1.154921293258667\n",
      "VGG11, lr: 0.1, train loss: [2.4082599359788874, 1.875736608688257, 1.6260565939996796, 1.4205464383940707, 1.2194157620652313], val loss: [1.9863086938858032, 1.680523157119751, 1.5131245851516724, 1.2960678339004517, 1.154921293258667], test accuracy: 60.54, elapsed: 162.9731638431549\n",
      "VGG11\n",
      "Epoch: 1, Loss train: 0.9514702583935215, valid: 0.9156564474105835\n",
      "Epoch: 2, Loss train: 0.8957802075270481, valid: 0.8610573410987854\n",
      "Epoch: 3, Loss train: 0.8596057001165066, valid: 0.873680830001831\n",
      "Epoch: 4, Loss train: 0.826106903077697, valid: 0.8332135677337646\n",
      "Epoch: 5, Loss train: 0.7975791821093448, valid: 0.7951822876930237\n",
      "VGG11, lr: 0.01, train loss: [0.9514702583935215, 0.8957802075270481, 0.8596057001165066, 0.826106903077697, 0.7975791821093448], val loss: [0.9156564474105835, 0.8610573410987854, 0.873680830001831, 0.8332135677337646, 0.7951822876930237], test accuracy: 73.84, elapsed: 164.84813976287842\n",
      "VGG11\n",
      "Epoch: 1, Loss train: 0.7507261769010738, valid: 0.7591395974159241\n",
      "Epoch: 2, Loss train: 0.7375311164798344, valid: 0.7572782635688782\n",
      "Epoch: 3, Loss train: 0.7346407328206085, valid: 0.7594857811927795\n",
      "Epoch: 4, Loss train: 0.7246889933551891, valid: 0.7403478622436523\n",
      "Epoch: 5, Loss train: 0.7196885601755737, valid: 0.7376779317855835\n",
      "VGG11, lr: 0.001, train loss: [0.7507261769010738, 0.7375311164798344, 0.7346407328206085, 0.7246889933551891, 0.7196885601755737], val loss: [0.7591395974159241, 0.7572782635688782, 0.7594857811927795, 0.7403478622436523, 0.7376779317855835], test accuracy: 75.44, elapsed: 164.21219396591187\n",
      "VGG16\n",
      "Epoch: 1, Loss train: 2.4581294595220875, valid: 2.318812131881714\n",
      "Epoch: 2, Loss train: 2.324741343021732, valid: 2.3429884910583496\n",
      "Epoch: 3, Loss train: 2.1504529642567367, valid: 1.9711397886276245\n",
      "Epoch: 4, Loss train: 1.89890605732322, valid: 1.7991490364074707\n",
      "Epoch: 5, Loss train: 1.6832030432056517, valid: 1.5492851734161377\n",
      "VGG16, lr: 0.1, train loss: [2.4581294595220875, 2.324741343021732, 2.1504529642567367, 1.89890605732322, 1.6832030432056517], val loss: [2.318812131881714, 2.3429884910583496, 1.9711397886276245, 1.7991490364074707, 1.5492851734161377], test accuracy: 42.58, elapsed: 202.94343423843384\n",
      "VGG16\n",
      "Epoch: 1, Loss train: 1.3936827745349507, valid: 1.3084070682525635\n",
      "Epoch: 2, Loss train: 1.3050461128068123, valid: 1.2401108741760254\n",
      "Epoch: 3, Loss train: 1.2003835867971246, valid: 1.1238536834716797\n",
      "Epoch: 4, Loss train: 1.1169289988071764, valid: 1.0599931478500366\n",
      "Epoch: 5, Loss train: 1.038913322706636, valid: 0.9852988123893738\n",
      "VGG16, lr: 0.01, train loss: [1.3936827745349507, 1.3050461128068123, 1.2003835867971246, 1.1169289988071764, 1.038913322706636], val loss: [1.3084070682525635, 1.2401108741760254, 1.1238536834716797, 1.0599931478500366, 0.9852988123893738], test accuracy: 64.95, elapsed: 202.8826379776001\n",
      "VGG16\n",
      "Epoch: 1, Loss train: 0.9381178976503263, valid: 0.9198775887489319\n",
      "Epoch: 2, Loss train: 0.9194757138361046, valid: 0.9033486247062683\n",
      "Epoch: 3, Loss train: 0.9068182014622583, valid: 0.901345431804657\n",
      "Epoch: 4, Loss train: 0.8879329331732847, valid: 0.9055619239807129\n",
      "Epoch: 5, Loss train: 0.8817712759920783, valid: 0.8825280666351318\n",
      "VGG16, lr: 0.001, train loss: [0.9381178976503263, 0.9194757138361046, 0.9068182014622583, 0.8879329331732847, 0.8817712759920783], val loss: [0.9198775887489319, 0.9033486247062683, 0.901345431804657, 0.9055619239807129, 0.8825280666351318], test accuracy: 69.21, elapsed: 196.94685578346252\n",
      "VGG19\n",
      "Epoch: 1, Loss train: 2.4634717861302966, valid: 2.32621431350708\n",
      "Epoch: 2, Loss train: 2.3261599496653, valid: 2.3994152545928955\n",
      "Epoch: 3, Loss train: 2.321487925793147, valid: 2.3268826007843018\n",
      "Epoch: 4, Loss train: 2.3172810875784866, valid: 2.3710691928863525\n",
      "Epoch: 5, Loss train: 2.274766439652731, valid: 2.0806407928466797\n",
      "VGG19, lr: 0.1, train loss: [2.4634717861302966, 2.3261599496653, 2.321487925793147, 2.3172810875784866, 2.274766439652731], val loss: [2.32621431350708, 2.3994152545928955, 2.3268826007843018, 2.3710691928863525, 2.0806407928466797], test accuracy: 16.81, elapsed: 213.42616295814514\n",
      "VGG19\n",
      "Epoch: 1, Loss train: 1.9864602614228575, valid: 1.9447720050811768\n",
      "Epoch: 2, Loss train: 1.9396112707378006, valid: 1.9749013185501099\n",
      "Epoch: 3, Loss train: 1.916621664016062, valid: 1.921032190322876\n",
      "Epoch: 4, Loss train: 1.8830047667068883, valid: 1.9116672277450562\n",
      "Epoch: 5, Loss train: 1.7947059227544193, valid: 1.8113449811935425\n",
      "VGG19, lr: 0.01, train loss: [1.9864602614228575, 1.9396112707378006, 1.916621664016062, 1.8830047667068883, 1.7947059227544193], val loss: [1.9447720050811768, 1.9749013185501099, 1.921032190322876, 1.9116672277450562, 1.8113449811935425], test accuracy: 30.21, elapsed: 212.46531295776367\n",
      "VGG19\n",
      "Epoch: 1, Loss train: 1.7216878809993286, valid: 1.722909927368164\n",
      "Epoch: 2, Loss train: 1.709682702086204, valid: 1.7433034181594849\n",
      "Epoch: 3, Loss train: 1.6995956309738105, valid: 1.7263644933700562\n",
      "Epoch: 4, Loss train: 1.6935327996916185, valid: 1.6862688064575195\n",
      "Epoch: 5, Loss train: 1.6820957905532794, valid: 1.7286349534988403\n",
      "VGG19, lr: 0.001, train loss: [1.7216878809993286, 1.709682702086204, 1.6995956309738105, 1.6935327996916185, 1.6820957905532794], val loss: [1.722909927368164, 1.7433034181594849, 1.7263644933700562, 1.6862688064575195, 1.7286349534988403], test accuracy: 36.6, elapsed: 209.5031111240387\n"
     ]
    }
   ],
   "source": [
    "results = compare_models()"
   ]
  },
  {
   "cell_type": "markdown",
   "id": "4fb6507a-9215-48b6-a8e4-80dc8f324f53",
   "metadata": {},
   "source": [
    "### TASK 2. Figure Accuracy vs Number of Parameters\n",
    "Consider the four models of TASK 1. and, taking in account the [accuracy obtained on CIFAR10](https://github.com/kuangliu/pytorch-cifar), generate a graph accuracy vs number of parameters such as this one\n",
    "\n"
   ]
  },
  {
   "cell_type": "code",
   "execution_count": 22,
   "id": "65e781a5-ca07-4d71-a379-d090f0f18289",
   "metadata": {},
   "outputs": [],
   "source": [
    "def get_model_params():\n",
    "    results={}\n",
    "\n",
    "    model = DenseNet201()\n",
    "    params=get_num_parameters(model)\n",
    "    results['DenseNet201']=params\n",
    "    \n",
    "    model = DenseNet121()\n",
    "    params=get_num_parameters(model)\n",
    "    results['DenseNet121']=params\n",
    "\n",
    "    model = PreActResNet152()\n",
    "    params=get_num_parameters(model)\n",
    "    results['PreActResNet152']=params\n",
    "\n",
    "    model = PreActResNet50()\n",
    "    params=get_num_parameters(model)\n",
    "    results['PreActResNet50']=params\n",
    "\n",
    "    model = PreActResNet18()\n",
    "    params=get_num_parameters(model)\n",
    "    results['PreActResNet18']=params\n",
    "\n",
    "    model = ResNet152()\n",
    "    params=get_num_parameters(model)\n",
    "    results['ResNet152']=params\n",
    "\n",
    "    model = ResNet50()\n",
    "    params=get_num_parameters(model)\n",
    "    results['ResNet50']=params\n",
    "\n",
    "    model = ResNet18()\n",
    "    params=get_num_parameters(model)\n",
    "    results['ResNet18']=params\n",
    "\n",
    "    model = VGG('VGG11')\n",
    "    params=get_num_parameters(model)\n",
    "    results['VGG11']=params\n",
    "\n",
    "    model = VGG('VGG19')\n",
    "    params=get_num_parameters(model)\n",
    "    results['VGG19']=params\n",
    "\n",
    "    return results"
   ]
  },
  {
   "cell_type": "code",
   "execution_count": 23,
   "id": "14b400b0-608c-4716-9465-88cf8ade4be1",
   "metadata": {},
   "outputs": [],
   "source": [
    "def get_num_parameters(model):\n",
    "    # trainable parameters\n",
    "    model_parameters = filter(lambda p: p.requires_grad, model.parameters())\n",
    "    params = sum([np.prod(p.size()) for p in model_parameters])\n",
    "    return params"
   ]
  },
  {
   "cell_type": "code",
   "execution_count": 24,
   "id": "e9b9149d-542a-41d0-8303-1200abaf1e20",
   "metadata": {},
   "outputs": [],
   "source": [
    "#results = get_model_params()\n",
    "#param_polar=pl.from_dict(results)\n",
    "param_polar=pl.read_csv('models/model_parameters.csv')"
   ]
  },
  {
   "cell_type": "code",
   "execution_count": 25,
   "id": "53db51bf-e78e-4b0b-ba70-a31e7172bc44",
   "metadata": {},
   "outputs": [
    {
     "data": {
      "text/html": [
       "<div><style>\n",
       ".dataframe > thead > tr > th,\n",
       ".dataframe > tbody > tr > td {\n",
       "  text-align: right;\n",
       "  white-space: pre-wrap;\n",
       "}\n",
       "</style>\n",
       "<small>shape: (1, 11)</small><table border=\"1\" class=\"dataframe\"><thead><tr><th>DenseNet201</th><th>DenseNet121</th><th>PreActResNet152</th><th>PreActResNet50</th><th>PreActResNet18</th><th>ResNet152</th><th>ResNet50</th><th>ResNet18</th><th>VGG11</th><th>VGG16</th><th>VGG19</th></tr><tr><td>i64</td><td>i64</td><td>i64</td><td>i64</td><td>i64</td><td>i64</td><td>i64</td><td>i64</td><td>i64</td><td>i64</td><td>i64</td></tr></thead><tbody><tr><td>18277220</td><td>7048548</td><td>58329252</td><td>23693476</td><td>11217316</td><td>58341028</td><td>23705252</td><td>11220132</td><td>9277284</td><td>14774436</td><td>20086692</td></tr></tbody></table></div>"
      ],
      "text/plain": [
       "shape: (1, 11)\n",
       "┌────────────┬────────────┬────────────┬────────────┬───┬──────────┬─────────┬──────────┬──────────┐\n",
       "│ DenseNet20 ┆ DenseNet12 ┆ PreActResN ┆ PreActResN ┆ … ┆ ResNet18 ┆ VGG11   ┆ VGG16    ┆ VGG19    │\n",
       "│ 1          ┆ 1          ┆ et152      ┆ et50       ┆   ┆ ---      ┆ ---     ┆ ---      ┆ ---      │\n",
       "│ ---        ┆ ---        ┆ ---        ┆ ---        ┆   ┆ i64      ┆ i64     ┆ i64      ┆ i64      │\n",
       "│ i64        ┆ i64        ┆ i64        ┆ i64        ┆   ┆          ┆         ┆          ┆          │\n",
       "╞════════════╪════════════╪════════════╪════════════╪═══╪══════════╪═════════╪══════════╪══════════╡\n",
       "│ 18277220   ┆ 7048548    ┆ 58329252   ┆ 23693476   ┆ … ┆ 11220132 ┆ 9277284 ┆ 14774436 ┆ 20086692 │\n",
       "└────────────┴────────────┴────────────┴────────────┴───┴──────────┴─────────┴──────────┴──────────┘"
      ]
     },
     "execution_count": 25,
     "metadata": {},
     "output_type": "execute_result"
    }
   ],
   "source": [
    "param_polar.head()"
   ]
  },
  {
   "cell_type": "code",
   "execution_count": 26,
   "id": "37bc4a54-036c-46f5-97d0-d960067ea882",
   "metadata": {},
   "outputs": [],
   "source": [
    "model_acc={'VGG16':92.64,'ResNet18':93.02, 'ResNet50':93.62,'DenseNet121':95.04,'PreActResNet18':95.11}\n",
    "model_params={'VGG16':14774436,'ResNet18':11220132, 'ResNet50':23705252,'DenseNet121':7048548,'PreActResNet18':11217316}"
   ]
  },
  {
   "cell_type": "code",
   "execution_count": 27,
   "id": "c9c0ad72-aafb-492d-abb5-5d755552acd2",
   "metadata": {},
   "outputs": [],
   "source": [
    "def plot_acc_vs_params(model_acc, model_params):\n",
    "    x_range = list(model_params.values())\n",
    "    y_vals = list(model_acc.values())\n",
    "    fig, ax = plt.subplots()\n",
    "    ax.scatter(x_range, y_vals)\n",
    "    for i, text in enumerate(model_acc.keys()):\n",
    "        ax.annotate(text, (x_range[i], y_vals[i]))\n",
    "    plt.xlabel('Parameters')\n",
    "    plt.ylabel('Accuacy')\n",
    "     \n",
    "    plt.show()\n"
   ]
  },
  {
   "cell_type": "code",
   "execution_count": 28,
   "id": "14ac404d-774d-4e68-8d13-e659dd131c93",
   "metadata": {},
   "outputs": [
    {
     "data": {
      "image/png": "[encoded data removed]",
      "text/plain": [
       "<Figure size 640x480 with 1 Axes>"
      ]
     },
     "metadata": {},
     "output_type": "display_data"
    }
   ],
   "source": [
    "plot_acc_vs_params(model_acc, model_params)"
   ]
  },
  {
   "cell_type": "code",
   "execution_count": null,
   "id": "cf17a294-8c78-4a4b-876e-37a2ab869888",
   "metadata": {},
   "outputs": [],
   "source": [
    "![Image](accuracy_vs_parameters_imagenet.png)"
   ]
  },
  {
   "cell_type": "markdown",
   "id": "0fde0edd-8b1c-4666-a812-d58b9da14377",
   "metadata": {},
   "source": [
    "## Part 3: Save and reload your trained models\n",
    "\n",
    "\n",
    "Pytorch has a [page](https://pytorch.org/tutorials/beginner/saving_loading_models.html#saving-loading-model-for-inference) explaining how to save and load models. But here are a few additional details. \n",
    "\n",
    "You explored various architecture hyperparameters and saved your trained models. In order to load a model, you need to define the model in the same way that it was defined when training it. \n",
    "\n",
    "Let's assume your model definition during training had a single hyperparameter that you explored with various values."
   ]
  },
  {
   "cell_type": "code",
   "execution_count": null,
   "id": "45be0657-ff04-4c40-af8b-9eb91c090d6f",
   "metadata": {},
   "outputs": [],
   "source": [
    "model = MySuperModel(hyperparam = hparam_currentvalue)"
   ]
  },
  {
   "cell_type": "markdown",
   "id": "d93f4d10-55f8-44de-b9bc-cf044c602de2",
   "metadata": {},
   "source": [
    "The following code enables you to save the currently trained model (his parameters, it is called a *state dictionary* in pytorch) as well as the current value `hparam_currentvalue` of the hyperparameter.\n"
   ]
  },
  {
   "cell_type": "code",
   "execution_count": null,
   "id": "a671ab02-4ea8-47ad-a9f9-d4890d5bca39",
   "metadata": {},
   "outputs": [],
   "source": [
    "state = {\n",
    "        'net': model.state_dict(),\n",
    "        'hyperparam': hparam_currentvalue\n",
    "}\n",
    "\n",
    "torch.save(state, 'mybestmodel.pth')"
   ]
  },
  {
   "cell_type": "markdown",
   "id": "789855f4-7d89-42a4-a0ff-3c63f9a92d1e",
   "metadata": {},
   "source": [
    "In order to reload this model, first we need to define it. This means we need to fetch the value of the hyperparameter before defining the model and loading the trained parameters. \n"
   ]
  },
  {
   "cell_type": "code",
   "execution_count": null,
   "id": "5c4a4145-0b39-4c63-9810-ff78b8cef969",
   "metadata": {},
   "outputs": [],
   "source": [
    "# We load the dictionary\n",
    "loaded_cpt = torch.load('mybestmodel.pth')\n",
    "\n",
    "# Fetch the hyperparam value\n",
    "hparam_bestvalue = loaded_cpt['hyperparam']\n",
    "\n",
    "# Define the model \n",
    "model = MySuperModel(hyperparam = hparam_bestvalue)\n",
    "\n",
    "# Finally we can load the state_dict in order to load the trained parameters \n",
    "model.load_state_dict(loaded_cpt['net'])\n",
    "\n",
    "# If you use this model for inference (= no further training), you need to set it into eval mode\n",
    "model.eval()"
   ]
  },
  {
   "cell_type": "markdown",
   "id": "55f65915-3640-4782-b142-2a629484c219",
   "metadata": {},
   "source": [
    "## Part 4 - Project\n",
    "\n",
    "Prepare a presentation (10 minutes + 5 minutes question) with the following content : \n",
    "- Description of the chosen architecture\n",
    "- Hyperparameter exploration strategy \n",
    "- Results on CIFAR10 subset, focusing on illustrating the **compromises between model size, training time and performance**\n",
    "\n",
    "If you are ahead in time, you can perform similar experiments on the full CIFAR-10 and CIFAR-100, but be aware that each run (e.g. 350 epochs) might take as long as 3 hours.\n",
    "\n",
    "**N.B. It is very important that you consider the models in the kuangliu repository, as they have been dimensioned for the CIFAR-10 dataset. Respective models taken from other sources may be have been optimized for other datasets and therefore not adapted (over or underparametrized) to CIFAR-10.**"
   ]
  },
  {
   "cell_type": "markdown",
   "id": "23115502-8be2-4cc2-a00d-e500012a8a9e",
   "metadata": {},
   "source": [
    "Conducted simple experiment using 3 VGG models, and varying the learning rate hyperparmater by three orders of magnitude on each of the VGG models. \n",
    "- Disabled learning rate update scheduler.\n",
    "- Trained for 5 ephochs using full CIFAR10 dataset, note I am using a validation set - not specified in lab but is best practice.\n",
    "- Saved each model where there was an improvement over previous model (for same architecture).\n",
    "- Used tensorboard for train/validation loss monitoring"
   ]
  },
  {
   "cell_type": "markdown",
   "id": "4516a8d5-8885-4119-82b1-97fd82e3bee8",
   "metadata": {},
   "source": [
    "As discussed in the lab notes above the \"learning rate is a very important (if not the most important) hyperparameter\" - and has a very large effect. VGG11 has best test accuracy, learning rate of 0.01 was best. Undertrained - more epochs for all models and learning rates  would improve accuracy. "
   ]
  },
  {
   "cell_type": "markdown",
   "id": "fddfc342-bc70-42b8-886b-0c3cd85604ea",
   "metadata": {},
   "source": [
    "![Image](images/lab1_loss_lr.png)"
   ]
  },
  {
   "cell_type": "code",
   "execution_count": null,
   "id": "50e27510-71ec-47fb-8566-f4de1c72336b",
   "metadata": {},
   "outputs": [],
   "source": []
  }
 ],
 "metadata": {
  "kernelspec": {
   "display_name": "Python 3 (ipykernel)",
   "language": "python",
   "name": "python3"
  },
  "language_info": {
   "codemirror_mode": {
    "name": "ipython",
    "version": 3
   },
   "file_extension": ".py",
   "mimetype": "text/x-python",
   "name": "python",
   "nbconvert_exporter": "python",
   "pygments_lexer": "ipython3",
   "version": "3.11.5"
  }
 },
 "nbformat": 4,
 "nbformat_minor": 5
}
